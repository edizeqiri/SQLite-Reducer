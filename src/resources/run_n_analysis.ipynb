{
 "cells": [
  {
   "metadata": {
    "ExecuteTime": {
     "end_time": "2025-05-31T18:54:54.025125Z",
     "start_time": "2025-05-31T18:54:52.168766Z"
    }
   },
   "cell_type": "code",
   "source": [
    "import polars\n",
    "%pip install polars"
   ],
   "outputs": [
    {
     "name": "stdout",
     "output_type": "stream",
     "text": [
      "Defaulting to user installation because normal site-packages is not writeable\n",
      "Requirement already satisfied: polars in c:\\users\\saschimi\\appdata\\local\\packages\\pythonsoftwarefoundation.python.3.12_qbz5n2kfra8p0\\localcache\\local-packages\\python312\\site-packages (1.30.0)\n",
      "Note: you may need to restart the kernel to use updated packages.\n"
     ]
    },
    {
     "name": "stderr",
     "output_type": "stream",
     "text": [
      "\n",
      "[notice] A new release of pip is available: 25.0.1 -> 25.1.1\n",
      "[notice] To update, run: C:\\Users\\saschimi\\AppData\\Local\\Microsoft\\WindowsApps\\PythonSoftwareFoundation.Python.3.12_qbz5n2kfra8p0\\python.exe -m pip install --upgrade pip\n"
     ]
    }
   ],
   "execution_count": 48
  },
  {
   "cell_type": "code",
   "metadata": {
    "ExecuteTime": {
     "end_time": "2025-05-31T18:54:54.037065Z",
     "start_time": "2025-05-31T18:54:54.033136Z"
    }
   },
   "source": "import polars as pl",
   "outputs": [],
   "execution_count": 49
  },
  {
   "metadata": {
    "ExecuteTime": {
     "end_time": "2025-05-31T18:54:54.059143Z",
     "start_time": "2025-05-31T18:54:54.054140Z"
    }
   },
   "cell_type": "code",
   "source": [
    "title = [\"orig-num-stmt\",\"reduced-num-stmt\",\"orig-token\",\"reduced-token\",\"time-taken\"]\n",
    "types = [pl.Int64, pl.Int64, pl.Int64, pl.Int64, pl.Float64]\n",
    "empty_schema = {\n",
    "    \"query-num\":  pl.Series(name=\"query-num\", values=[], dtype=pl.Int32),\n",
    "    **{\n",
    "        title[i]: pl.Series(name=title[i], values=[], dtype=types[i])\n",
    "        for i in range(len(title))\n",
    "    }\n",
    "}\n",
    "master_df = pl.DataFrame(empty_schema)"
   ],
   "outputs": [],
   "execution_count": 50
  },
  {
   "metadata": {
    "ExecuteTime": {
     "end_time": "2025-05-31T18:54:54.076348Z",
     "start_time": "2025-05-31T18:54:54.070816Z"
    }
   },
   "cell_type": "code",
   "source": "master_df",
   "outputs": [
    {
     "data": {
      "text/plain": [
       "shape: (0, 6)\n",
       "┌───────────┬───────────────┬──────────────────┬────────────┬───────────────┬────────────┐\n",
       "│ query-num ┆ orig-num-stmt ┆ reduced-num-stmt ┆ orig-token ┆ reduced-token ┆ time-taken │\n",
       "│ ---       ┆ ---           ┆ ---              ┆ ---        ┆ ---           ┆ ---        │\n",
       "│ i32       ┆ i64           ┆ i64              ┆ i64        ┆ i64           ┆ f64        │\n",
       "╞═══════════╪═══════════════╪══════════════════╪════════════╪═══════════════╪════════════╡\n",
       "└───────────┴───────────────┴──────────────────┴────────────┴───────────────┴────────────┘"
      ],
      "text/html": [
       "<div><style>\n",
       ".dataframe > thead > tr,\n",
       ".dataframe > tbody > tr {\n",
       "  text-align: right;\n",
       "  white-space: pre-wrap;\n",
       "}\n",
       "</style>\n",
       "<small>shape: (0, 6)</small><table border=\"1\" class=\"dataframe\"><thead><tr><th>query-num</th><th>orig-num-stmt</th><th>reduced-num-stmt</th><th>orig-token</th><th>reduced-token</th><th>time-taken</th></tr><tr><td>i32</td><td>i64</td><td>i64</td><td>i64</td><td>i64</td><td>f64</td></tr></thead><tbody></tbody></table></div>"
      ]
     },
     "execution_count": 51,
     "metadata": {},
     "output_type": "execute_result"
    }
   ],
   "execution_count": 51
  },
  {
   "cell_type": "code",
   "metadata": {
    "ExecuteTime": {
     "end_time": "2025-05-31T18:54:54.138521Z",
     "start_time": "2025-05-31T18:54:54.111110Z"
    }
   },
   "source": [
    "for i in range(1, 21):\n",
    "    df = pl.read_csv(f\"../output/result{i}.csv\", separator=\",\", has_header=False, new_columns=title)\n",
    "    df = df.with_columns(\n",
    "        pl.lit(i).alias(\"query-num\")\n",
    "    )\n",
    "    df = df.select(\n",
    "    [\"query-num\"] + [col for col in df.columns if col != \"query-num\"])\n",
    "    master_df = pl.concat([master_df, df], how=\"vertical\")"
   ],
   "outputs": [
    {
     "data": {
      "text/plain": [
       "shape: (20, 6)\n",
       "┌───────────┬───────────────┬──────────────────┬────────────┬───────────────┬─────────────┐\n",
       "│ query-num ┆ orig-num-stmt ┆ reduced-num-stmt ┆ orig-token ┆ reduced-token ┆ time-taken  │\n",
       "│ ---       ┆ ---           ┆ ---              ┆ ---        ┆ ---           ┆ ---         │\n",
       "│ i32       ┆ i64           ┆ i64              ┆ i64        ┆ i64           ┆ f64         │\n",
       "╞═══════════╪═══════════════╪══════════════════╪════════════╪═══════════════╪═════════════╡\n",
       "│ 1         ┆ 2             ┆ 2                ┆ 74         ┆ 74            ┆ 60.363254   │\n",
       "│ 2         ┆ 18            ┆ 5                ┆ 266        ┆ 100           ┆ 500.107231  │\n",
       "│ 3         ┆ 117           ┆ 102              ┆ 1002       ┆ 1002          ┆ 2835.256154 │\n",
       "│ 4         ┆ 42            ┆ 9                ┆ 336        ┆ 95            ┆ 884.894843  │\n",
       "│ 5         ┆ 5             ┆ 3                ┆ 51         ┆ 34            ┆ 127.517149  │\n",
       "│ …         ┆ …             ┆ …                ┆ …          ┆ …             ┆ …           │\n",
       "│ 16        ┆ 2             ┆ 2                ┆ 3029       ┆ 3029          ┆ 59.149156   │\n",
       "│ 17        ┆ 65            ┆ 64               ┆ 3754       ┆ 3754          ┆ 2123.511412 │\n",
       "│ 18        ┆ 2             ┆ 2                ┆ 132        ┆ 132           ┆ 51.175635   │\n",
       "│ 19        ┆ 3             ┆ 4                ┆ 99         ┆ 99            ┆ 117.43962   │\n",
       "│ 20        ┆ 16            ┆ 2                ┆ 5557       ┆ 216           ┆ 234.444666  │\n",
       "└───────────┴───────────────┴──────────────────┴────────────┴───────────────┴─────────────┘"
      ],
      "text/html": [
       "<div><style>\n",
       ".dataframe > thead > tr,\n",
       ".dataframe > tbody > tr {\n",
       "  text-align: right;\n",
       "  white-space: pre-wrap;\n",
       "}\n",
       "</style>\n",
       "<small>shape: (20, 6)</small><table border=\"1\" class=\"dataframe\"><thead><tr><th>query-num</th><th>orig-num-stmt</th><th>reduced-num-stmt</th><th>orig-token</th><th>reduced-token</th><th>time-taken</th></tr><tr><td>i32</td><td>i64</td><td>i64</td><td>i64</td><td>i64</td><td>f64</td></tr></thead><tbody><tr><td>1</td><td>2</td><td>2</td><td>74</td><td>74</td><td>60.363254</td></tr><tr><td>2</td><td>18</td><td>5</td><td>266</td><td>100</td><td>500.107231</td></tr><tr><td>3</td><td>117</td><td>102</td><td>1002</td><td>1002</td><td>2835.256154</td></tr><tr><td>4</td><td>42</td><td>9</td><td>336</td><td>95</td><td>884.894843</td></tr><tr><td>5</td><td>5</td><td>3</td><td>51</td><td>34</td><td>127.517149</td></tr><tr><td>&hellip;</td><td>&hellip;</td><td>&hellip;</td><td>&hellip;</td><td>&hellip;</td><td>&hellip;</td></tr><tr><td>16</td><td>2</td><td>2</td><td>3029</td><td>3029</td><td>59.149156</td></tr><tr><td>17</td><td>65</td><td>64</td><td>3754</td><td>3754</td><td>2123.511412</td></tr><tr><td>18</td><td>2</td><td>2</td><td>132</td><td>132</td><td>51.175635</td></tr><tr><td>19</td><td>3</td><td>4</td><td>99</td><td>99</td><td>117.43962</td></tr><tr><td>20</td><td>16</td><td>2</td><td>5557</td><td>216</td><td>234.444666</td></tr></tbody></table></div>"
      ]
     },
     "execution_count": 52,
     "metadata": {},
     "output_type": "execute_result"
    }
   ],
   "execution_count": 52
  },
  {
   "metadata": {
    "ExecuteTime": {
     "end_time": "2025-05-31T18:55:15.361884Z",
     "start_time": "2025-05-31T18:55:15.355311Z"
    }
   },
   "cell_type": "code",
   "source": "master_df.head(20)",
   "outputs": [
    {
     "data": {
      "text/plain": [
       "shape: (20, 6)\n",
       "┌───────────┬───────────────┬──────────────────┬────────────┬───────────────┬─────────────┐\n",
       "│ query-num ┆ orig-num-stmt ┆ reduced-num-stmt ┆ orig-token ┆ reduced-token ┆ time-taken  │\n",
       "│ ---       ┆ ---           ┆ ---              ┆ ---        ┆ ---           ┆ ---         │\n",
       "│ i32       ┆ i64           ┆ i64              ┆ i64        ┆ i64           ┆ f64         │\n",
       "╞═══════════╪═══════════════╪══════════════════╪════════════╪═══════════════╪═════════════╡\n",
       "│ 1         ┆ 2             ┆ 2                ┆ 74         ┆ 74            ┆ 60.363254   │\n",
       "│ 2         ┆ 18            ┆ 5                ┆ 266        ┆ 100           ┆ 500.107231  │\n",
       "│ 3         ┆ 117           ┆ 102              ┆ 1002       ┆ 1002          ┆ 2835.256154 │\n",
       "│ 4         ┆ 42            ┆ 9                ┆ 336        ┆ 95            ┆ 884.894843  │\n",
       "│ 5         ┆ 5             ┆ 3                ┆ 51         ┆ 34            ┆ 127.517149  │\n",
       "│ …         ┆ …             ┆ …                ┆ …          ┆ …             ┆ …           │\n",
       "│ 16        ┆ 2             ┆ 2                ┆ 3029       ┆ 3029          ┆ 59.149156   │\n",
       "│ 17        ┆ 65            ┆ 64               ┆ 3754       ┆ 3754          ┆ 2123.511412 │\n",
       "│ 18        ┆ 2             ┆ 2                ┆ 132        ┆ 132           ┆ 51.175635   │\n",
       "│ 19        ┆ 3             ┆ 4                ┆ 99         ┆ 99            ┆ 117.43962   │\n",
       "│ 20        ┆ 16            ┆ 2                ┆ 5557       ┆ 216           ┆ 234.444666  │\n",
       "└───────────┴───────────────┴──────────────────┴────────────┴───────────────┴─────────────┘"
      ],
      "text/html": [
       "<div><style>\n",
       ".dataframe > thead > tr,\n",
       ".dataframe > tbody > tr {\n",
       "  text-align: right;\n",
       "  white-space: pre-wrap;\n",
       "}\n",
       "</style>\n",
       "<small>shape: (20, 6)</small><table border=\"1\" class=\"dataframe\"><thead><tr><th>query-num</th><th>orig-num-stmt</th><th>reduced-num-stmt</th><th>orig-token</th><th>reduced-token</th><th>time-taken</th></tr><tr><td>i32</td><td>i64</td><td>i64</td><td>i64</td><td>i64</td><td>f64</td></tr></thead><tbody><tr><td>1</td><td>2</td><td>2</td><td>74</td><td>74</td><td>60.363254</td></tr><tr><td>2</td><td>18</td><td>5</td><td>266</td><td>100</td><td>500.107231</td></tr><tr><td>3</td><td>117</td><td>102</td><td>1002</td><td>1002</td><td>2835.256154</td></tr><tr><td>4</td><td>42</td><td>9</td><td>336</td><td>95</td><td>884.894843</td></tr><tr><td>5</td><td>5</td><td>3</td><td>51</td><td>34</td><td>127.517149</td></tr><tr><td>&hellip;</td><td>&hellip;</td><td>&hellip;</td><td>&hellip;</td><td>&hellip;</td><td>&hellip;</td></tr><tr><td>16</td><td>2</td><td>2</td><td>3029</td><td>3029</td><td>59.149156</td></tr><tr><td>17</td><td>65</td><td>64</td><td>3754</td><td>3754</td><td>2123.511412</td></tr><tr><td>18</td><td>2</td><td>2</td><td>132</td><td>132</td><td>51.175635</td></tr><tr><td>19</td><td>3</td><td>4</td><td>99</td><td>99</td><td>117.43962</td></tr><tr><td>20</td><td>16</td><td>2</td><td>5557</td><td>216</td><td>234.444666</td></tr></tbody></table></div>"
      ]
     },
     "execution_count": 54,
     "metadata": {},
     "output_type": "execute_result"
    }
   ],
   "execution_count": 54
  },
  {
   "metadata": {
    "ExecuteTime": {
     "end_time": "2025-05-31T19:06:03.804059Z",
     "start_time": "2025-05-31T19:06:03.796391Z"
    }
   },
   "cell_type": "code",
   "source": [
    "master_df = master_df.with_columns(\n",
    "    (100 - 100 / pl.col(\"orig-token\") * pl.col(\"reduced-token\"))\n",
    "    .alias(\"pct\")\n",
    ")\n",
    "master_df"
   ],
   "outputs": [
    {
     "data": {
      "text/plain": [
       "shape: (20, 7)\n",
       "┌───────────┬───────────────┬───────────────┬────────────┬──────────────┬─────────────┬────────────┐\n",
       "│ query-num ┆ orig-num-stmt ┆ reduced-num-s ┆ orig-token ┆ reduced-toke ┆ time-taken  ┆ pct        │\n",
       "│ ---       ┆ ---           ┆ tmt           ┆ ---        ┆ n            ┆ ---         ┆ ---        │\n",
       "│ i32       ┆ i64           ┆ ---           ┆ i64        ┆ ---          ┆ f64         ┆ f64        │\n",
       "│           ┆               ┆ i64           ┆            ┆ i64          ┆             ┆            │\n",
       "╞═══════════╪═══════════════╪═══════════════╪════════════╪══════════════╪═════════════╪════════════╡\n",
       "│ 1         ┆ 2             ┆ 2             ┆ 74         ┆ 74           ┆ 60.363254   ┆ 0.0        │\n",
       "│ 2         ┆ 18            ┆ 5             ┆ 266        ┆ 100          ┆ 500.107231  ┆ 62.406015  │\n",
       "│ 3         ┆ 117           ┆ 102           ┆ 1002       ┆ 1002         ┆ 2835.256154 ┆ 0.0        │\n",
       "│ 4         ┆ 42            ┆ 9             ┆ 336        ┆ 95           ┆ 884.894843  ┆ 71.72619   │\n",
       "│ 5         ┆ 5             ┆ 3             ┆ 51         ┆ 34           ┆ 127.517149  ┆ 33.333333  │\n",
       "│ …         ┆ …             ┆ …             ┆ …          ┆ …            ┆ …           ┆ …          │\n",
       "│ 16        ┆ 2             ┆ 2             ┆ 3029       ┆ 3029         ┆ 59.149156   ┆ 1.4211e-14 │\n",
       "│ 17        ┆ 65            ┆ 64            ┆ 3754       ┆ 3754         ┆ 2123.511412 ┆ 0.0        │\n",
       "│ 18        ┆ 2             ┆ 2             ┆ 132        ┆ 132          ┆ 51.175635   ┆ 0.0        │\n",
       "│ 19        ┆ 3             ┆ 4             ┆ 99         ┆ 99           ┆ 117.43962   ┆ 0.0        │\n",
       "│ 20        ┆ 16            ┆ 2             ┆ 5557       ┆ 216          ┆ 234.444666  ┆ 96.113011  │\n",
       "└───────────┴───────────────┴───────────────┴────────────┴──────────────┴─────────────┴────────────┘"
      ],
      "text/html": [
       "<div><style>\n",
       ".dataframe > thead > tr,\n",
       ".dataframe > tbody > tr {\n",
       "  text-align: right;\n",
       "  white-space: pre-wrap;\n",
       "}\n",
       "</style>\n",
       "<small>shape: (20, 7)</small><table border=\"1\" class=\"dataframe\"><thead><tr><th>query-num</th><th>orig-num-stmt</th><th>reduced-num-stmt</th><th>orig-token</th><th>reduced-token</th><th>time-taken</th><th>pct</th></tr><tr><td>i32</td><td>i64</td><td>i64</td><td>i64</td><td>i64</td><td>f64</td><td>f64</td></tr></thead><tbody><tr><td>1</td><td>2</td><td>2</td><td>74</td><td>74</td><td>60.363254</td><td>0.0</td></tr><tr><td>2</td><td>18</td><td>5</td><td>266</td><td>100</td><td>500.107231</td><td>62.406015</td></tr><tr><td>3</td><td>117</td><td>102</td><td>1002</td><td>1002</td><td>2835.256154</td><td>0.0</td></tr><tr><td>4</td><td>42</td><td>9</td><td>336</td><td>95</td><td>884.894843</td><td>71.72619</td></tr><tr><td>5</td><td>5</td><td>3</td><td>51</td><td>34</td><td>127.517149</td><td>33.333333</td></tr><tr><td>&hellip;</td><td>&hellip;</td><td>&hellip;</td><td>&hellip;</td><td>&hellip;</td><td>&hellip;</td><td>&hellip;</td></tr><tr><td>16</td><td>2</td><td>2</td><td>3029</td><td>3029</td><td>59.149156</td><td>1.4211e-14</td></tr><tr><td>17</td><td>65</td><td>64</td><td>3754</td><td>3754</td><td>2123.511412</td><td>0.0</td></tr><tr><td>18</td><td>2</td><td>2</td><td>132</td><td>132</td><td>51.175635</td><td>0.0</td></tr><tr><td>19</td><td>3</td><td>4</td><td>99</td><td>99</td><td>117.43962</td><td>0.0</td></tr><tr><td>20</td><td>16</td><td>2</td><td>5557</td><td>216</td><td>234.444666</td><td>96.113011</td></tr></tbody></table></div>"
      ]
     },
     "execution_count": 60,
     "metadata": {},
     "output_type": "execute_result"
    }
   ],
   "execution_count": 60
  }
 ],
 "metadata": {
  "kernelspec": {
   "display_name": "Python 3",
   "language": "python",
   "name": "python3"
  },
  "language_info": {
   "codemirror_mode": {
    "name": "ipython",
    "version": 3
   },
   "file_extension": ".py",
   "mimetype": "text/x-python",
   "name": "python",
   "nbconvert_exporter": "python",
   "pygments_lexer": "ipython3",
   "version": "3.10.12"
  }
 },
 "nbformat": 4,
 "nbformat_minor": 2
}
